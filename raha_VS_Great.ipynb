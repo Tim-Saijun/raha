{
 "cells": [
  {
   "cell_type": "code",
   "execution_count": null,
   "metadata": {},
   "outputs": [],
   "source": [
    "import pandas as pd\n",
    "import numpy as np\n",
    "# 读取两个CSV文件\n",
    "df1 = pd.read_csv('datasets/flights/clean.csv')\n",
    "df2 = pd.read_csv('datasets/flights/dirty.csv')\n",
    "# Replace values in df2 that are different from df1 with np.nan, and save the row_index, col_index\n",
    "row_index = []\n",
    "col_index = []\n",
    "tuple_index = []\n",
    "clean_dict = {}\n",
    "dirt_dict = {}\n",
    "print(df1.iloc[1,6])\n",
    "print(df2.iloc[1,6])\n",
    "for i in range(len(df1)):\n",
    "    for j in range(len(df1.columns)):\n",
    "        if df1.iloc[i, j] != df2.iloc[i, j]:\n",
    "            row_index.append(i)\n",
    "            col_index.append(j)\n",
    "            tuple_index.append((i, j))\n",
    "            clean_dict[(i, j)] = df1.iloc[i, j]\n",
    "            dirt_dict[(i, j)] = df2.iloc[i, j]\n",
    "            df2.iloc[i, j] = np.nan\n",
    "# print(tuple_index)\n",
    "print(df2.iloc[1,6])\n",
    "print(clean_dict)"
   ]
  }
 ],
 "metadata": {
  "language_info": {
   "name": "python"
  }
 },
 "nbformat": 4,
 "nbformat_minor": 2
}
